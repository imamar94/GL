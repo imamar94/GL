{
 "cells": [
  {
   "cell_type": "code",
   "execution_count": 5,
   "metadata": {},
   "outputs": [],
   "source": [
    "import numpy as np\n",
    "import pandas as pd\n",
    "import matplotlib.pyplot as plt\n",
    "import matplotlib\n",
    "import seaborn as sns\n",
    "import random\n",
    "from GraphLaplacian.binary import GraphLaplacian, MBOBinary\n",
    "from GraphLaplacian.multilabel import GLMultiClass, MBOMultiClass\n",
    "from GraphLaplacian.helper import plot, plot2d\n",
    "import pdb\n",
    "from IPython.display import clear_output\n",
    "from sklearn.datasets import make_moons, make_circles, make_classification\n",
    "import scipy\n",
    "import pdb\n",
    "from datetime import datetime\n",
    "\n",
    "matplotlib.rcParams['figure.figsize'] = [5, 5]\n",
    "sns.set()\n",
    "sns.set_style(\"ticks\")"
   ]
  },
  {
   "cell_type": "code",
   "execution_count": 6,
   "metadata": {},
   "outputs": [],
   "source": [
    "from sklearn.metrics import accuracy_score, f1_score, precision_score, recall_score\n",
    "from sklearn.datasets import fetch_openml\n",
    "from sklearn.model_selection import train_test_split\n",
    "\n",
    "def create_score_sheet(method, y_true, y_pred):\n",
    "    return {\"Method\":method, \n",
    "            \"accuracy\":accuracy_score(y_true, y_pred), \n",
    "            \"f1_score\": f1_score(y_true, y_pred, average=\"weighted\"), \n",
    "            \"presicion\": precision_score(y_true, y_pred, average=\"weighted\"), \n",
    "            \"recall\": recall_score(y_true, y_pred, average=\"weighted\")}"
   ]
  },
  {
   "cell_type": "code",
   "execution_count": 7,
   "metadata": {},
   "outputs": [],
   "source": [
    "def find_h(X, n_sample=5, n_neigh=5, use_mean=False):\n",
    "    np.random.seed(1000)\n",
    "    tree = scipy.spatial.cKDTree(X)\n",
    "    sample = random.sample(X, k=n_sample)\n",
    "    _func = lambda point: np.mean([x for x in tree.query(point, k = n_neigh+1)[0] if x > 0])\n",
    "    if use_mean:\n",
    "        h = np.mean([_func(x) for x in sample])\n",
    "    else:\n",
    "        h = np.max([_func(x) for x in sample])\n",
    "    return h"
   ]
  },
  {
   "cell_type": "markdown",
   "metadata": {},
   "source": [
    "## Data 1"
   ]
  },
  {
   "cell_type": "code",
   "execution_count": 8,
   "metadata": {},
   "outputs": [],
   "source": [
    "# Load data from https://www.openml.org/d/554\n",
    "X, Y = fetch_openml('mnist_784', version=1, return_X_y=True)"
   ]
  },
  {
   "cell_type": "code",
   "execution_count": 23,
   "metadata": {},
   "outputs": [
    {
     "data": {
      "text/plain": [
       "70000"
      ]
     },
     "execution_count": 23,
     "metadata": {},
     "output_type": "execute_result"
    }
   ],
   "source": [
    "len(X)"
   ]
  },
  {
   "cell_type": "code",
   "execution_count": 24,
   "metadata": {},
   "outputs": [],
   "source": [
    "X = X[:2300]/255\n",
    "Y = [np.int64(y) for y in Y[:2300]]\n",
    "# to_remove = sum(X) >= 1\n",
    "# X = np.array([x[to_remove] for x in X])"
   ]
  },
  {
   "cell_type": "code",
   "execution_count": 33,
   "metadata": {},
   "outputs": [],
   "source": [
    "from sklearn.decomposition import SparsePCA, PCA"
   ]
  },
  {
   "cell_type": "code",
   "execution_count": 34,
   "metadata": {},
   "outputs": [
    {
     "name": "stderr",
     "output_type": "stream",
     "text": [
      "/Users/imam.ar/anaconda3/lib/python3.7/site-packages/sklearn/decomposition/sparse_pca.py:170: DeprecationWarning: normalize_components=False is a backward-compatible setting that implements a non-standard definition of sparse PCA. This compatibility mode will be removed in 0.22.\n",
      "  DeprecationWarning)\n"
     ]
    }
   ],
   "source": [
    "pca = SparsePCA(n_components=300)\n",
    "X_pca = pca.fit_transform(X)"
   ]
  },
  {
   "cell_type": "code",
   "execution_count": 27,
   "metadata": {},
   "outputs": [],
   "source": [
    "exp_var = pca.explained_variance_ratio_\n",
    "exp_var_cumsum = np.cumsum(exp_var)\n",
    "axs = np.array(list(range(len(exp_var)))) + 1"
   ]
  },
  {
   "cell_type": "code",
   "execution_count": 28,
   "metadata": {},
   "outputs": [
    {
     "data": {
      "text/plain": [
       "[<matplotlib.lines.Line2D at 0x7fc1169ce7d0>]"
      ]
     },
     "execution_count": 28,
     "metadata": {},
     "output_type": "execute_result"
    },
    {
     "data": {
      "image/png": "[encoded data removed]",
      "text/plain": [
       "<Figure size 432x288 with 1 Axes>"
      ]
     },
     "metadata": {
      "needs_background": "light"
     },
     "output_type": "display_data"
    }
   ],
   "source": [
    "plt.plot(axs, exp_var_cumsum)"
   ]
  },
  {
   "cell_type": "code",
   "execution_count": 29,
   "metadata": {},
   "outputs": [
    {
     "name": "stdout",
     "output_type": "stream",
     "text": [
      "2.4018101020323748\n"
     ]
    }
   ],
   "source": [
    "N = 300\n",
    "\n",
    "X0, X1, Y0, Y1 = train_test_split(\n",
    "    X_pca, Y, train_size=N, test_size=2000 - N)\n",
    "\n",
    "h = find_h(list(X), len(X), 1, use_mean=False)/3.6\n",
    "print(h)"
   ]
  },
  {
   "cell_type": "code",
   "execution_count": 30,
   "metadata": {},
   "outputs": [
    {
     "data": {
      "text/plain": [
       "300"
      ]
     },
     "execution_count": 30,
     "metadata": {},
     "output_type": "execute_result"
    }
   ],
   "source": [
    "len(X0[0])"
   ]
  },
  {
   "cell_type": "code",
   "execution_count": 31,
   "metadata": {},
   "outputs": [
    {
     "name": "stdout",
     "output_type": "stream",
     "text": [
      "{'Method': 'Graph Laplacian', 'accuracy': 0.5411764705882353, 'f1_score': 0.5376490446957275, 'presicion': 0.8295974476982924, 'recall': 0.5411764705882353}\n",
      "0:00:34.252326\n"
     ]
    }
   ],
   "source": [
    "now = datetime.now()\n",
    "GL = GLMultiClass(list(X0), list(Y0), list(X1), sigma=h)\n",
    "GL.solve()\n",
    "\n",
    "print(create_score_sheet(\"Graph Laplacian\", Y1, GL.Y[N:]))\n",
    "print(datetime.now() - now)"
   ]
  },
  {
   "cell_type": "code",
   "execution_count": 32,
   "metadata": {
    "scrolled": true
   },
   "outputs": [
    {
     "name": "stdout",
     "output_type": "stream",
     "text": [
      "Creating weight matrix cost 0:00:00.000006\n",
      "0.8403044676503122\n",
      "0.003251146357964369\n",
      "{'Method': 'MBO', 'accuracy': 0.7570588235294118, 'f1_score': 0.7608691856696151, 'presicion': 0.8261433764168183, 'recall': 0.7570588235294118}\n",
      "0:01:09.691833\n"
     ]
    }
   ],
   "source": [
    "now = datetime.now()\n",
    "MBO = MBOMultiClass(list(X0), list(Y0), list(X1), sigma=h, dT=0.005, weight_matrix=GL.weight_matrix)\n",
    "MBO.solve()\n",
    "\n",
    "print(create_score_sheet(\"MBO\", Y1,  MBO.Y[N:]))\n",
    "\n",
    "print(datetime.now() - now)"
   ]
  },
  {
   "cell_type": "code",
   "execution_count": null,
   "metadata": {},
   "outputs": [],
   "source": [
    "np.sqrt(784)"
   ]
  },
  {
   "cell_type": "code",
   "execution_count": null,
   "metadata": {},
   "outputs": [],
   "source": []
  },
  {
   "cell_type": "code",
   "execution_count": 9,
   "metadata": {},
   "outputs": [],
   "source": [
    "# Load data from https://www.openml.org/d/554\n",
    "XX, YY = fetch_openml('mnist_784', version=1, return_X_y=True)"
   ]
  },
  {
   "cell_type": "code",
   "execution_count": null,
   "metadata": {},
   "outputs": [],
   "source": [
    "num_row = 2\n",
    "num_col = 5\n",
    "\n",
    "num = 10\n",
    "images = XX[:num]\n",
    "labels = YY[:num]\n",
    "# plot images\n",
    "fig, axes = plt.subplots(num_row, num_col, figsize=(1.5*num_col,2*num_row))\n",
    "for i in range(num):\n",
    "    ax = axes[i//num_col, i%num_col]\n",
    "    ax.imshow(np.reshape(images[i], [28,28]), cmap='gray')\n",
    "    ax.set_title('Label: {}'.format(labels[i]))\n",
    "plt.tight_layout()\n",
    "plt.show()"
   ]
  },
  {
   "cell_type": "code",
   "execution_count": null,
   "metadata": {},
   "outputs": [],
   "source": [
    "scores = list()\n",
    "for N in [50, 100, 200, 300, 500, 1000]:\n",
    "    print(\"Start for N={}\".format(N))\n",
    "    now = datetime.now()\n",
    "    X = XX[:2000+N]/255\n",
    "    Y = [np.int64(y) for y in YY[:2000+N]]\n",
    "\n",
    "    X0, X1, Y0, Y1 = train_test_split(\n",
    "        X, Y, train_size=N, test_size=2000)\n",
    "\n",
    "    h = find_h(list(X), len(X), 1, use_mean=False)/3.6\n",
    "\n",
    "    now = datetime.now()\n",
    "    GL = GLMultiClass(list(X0), list(Y0), list(X1), sigma=h)\n",
    "    GL.solve()\n",
    "\n",
    "    score = create_score_sheet(\"Graph Laplacian\", Y1, GL.Y[N:])\n",
    "    score[\"N0\"] = N\n",
    "    score[\"N\"] = N + 2000\n",
    "    score[\"model\"] = GL\n",
    "    score[\"Y1\"] = np.array(Y1)\n",
    "    scores.append(score)\n",
    "    print(datetime.now() - now)\n",
    "\n",
    "    now = datetime.now()\n",
    "    MBO = MBOMultiClass(list(X0), list(Y0), list(X1), sigma=h, dT=0.005, weight_matrix=GL.weight_matrix)\n",
    "    MBO.solve()\n",
    "\n",
    "    score = create_score_sheet(\"MBO\", Y1, MBO.Y[N:])\n",
    "    score[\"N0\"] = N\n",
    "    score[\"N\"] = N + 2000\n",
    "    score[\"model\"] = MBO\n",
    "    score[\"Y1\"] = np.array(Y1)\n",
    "    scores.append(score)\n",
    "    print(\"{} Done in {}\".format(N, datetime.now() - now))\n",
    "    #print(score)"
   ]
  },
  {
   "cell_type": "code",
   "execution_count": null,
   "metadata": {},
   "outputs": [],
   "source": [
    "import pickle\n",
    "\n",
    "with open(\"mnist_result\", \"wb\") as f:\n",
    "    pickle.dump(scores, f)\n",
    "\n",
    "# with open(\"mnist_result\", \"rb\") as f:\n",
    "#     test = pickle.load(f)\n",
    "    \n",
    "# print(test)"
   ]
  },
  {
   "cell_type": "code",
   "execution_count": null,
   "metadata": {},
   "outputs": [],
   "source": [
    "df = pd.DataFrame(scores)"
   ]
  },
  {
   "cell_type": "code",
   "execution_count": null,
   "metadata": {},
   "outputs": [],
   "source": [
    "df"
   ]
  },
  {
   "cell_type": "code",
   "execution_count": null,
   "metadata": {},
   "outputs": [],
   "source": [
    "df.pivot(columns=\"Method\", index=\"N0\", values=[\"f1_score\"])"
   ]
  },
  {
   "cell_type": "code",
   "execution_count": null,
   "metadata": {},
   "outputs": [],
   "source": []
  },
  {
   "cell_type": "code",
   "execution_count": null,
   "metadata": {},
   "outputs": [],
   "source": [
    "for s in scores:\n",
    "    model = s.get(\"model\")\n",
    "    if s.get(\"Method\") == \"Graph Laplacian\":\n",
    "        ax = sns.distplot([max(u) for u in model.U][s.get(\"N0\"):], label=s.get(\"N0\"))\n",
    "        ax.legend()"
   ]
  },
  {
   "cell_type": "code",
   "execution_count": null,
   "metadata": {},
   "outputs": [],
   "source": [
    "for i, s in enumerate(scores):\n",
    "    model = s.get(\"model\")\n",
    "    if s.get(\"Method\") == \"Graph Laplacian\":\n",
    "        u_maxs = np.array([max(u) for u in model.U][s.get(\"N0\"):])\n",
    "        U = model.U[s.get(\"N0\"):]\n",
    "        #Y1 = np.array(Y[-2000:])\n",
    "        print(s.get(\"N0\"))\n",
    "        print(\"-----\")\n",
    "        for cut in [0, 0.2, 0.3, 0.4, 0.5, 0.6, 0.7, 0.8, 0.9]:\n",
    "            U_ = U[u_maxs >= cut]\n",
    "            Y_ = np.array(s.get(\"Y1\"))[u_maxs >= cut]\n",
    "            f1 = f1_score(Y_, np.array([np.argmax(u) for u in U_]), average=\"weighted\")\n",
    "            acc = accuracy_score(Y_, np.array([np.argmax(u) for u in U_]))\n",
    "            scores[i][\"f1_{}\".format(cut)] = {\"f1_score\":f1, \"length\":len(U_)}\n",
    "            print({\"u_cut\":cut,\"f1_score\":\"{}%\".format(round(f1*100,2)), \"length\":len(U_), \"acc\":acc})\n",
    "        print()\n",
    "        # U_ = U[u_maxs > 0.6]\n",
    "        "
   ]
  },
  {
   "cell_type": "code",
   "execution_count": null,
   "metadata": {},
   "outputs": [],
   "source": [
    "model."
   ]
  },
  {
   "cell_type": "code",
   "execution_count": null,
   "metadata": {},
   "outputs": [],
   "source": [
    "np.array([1,2,3])[[True, False, False]]"
   ]
  },
  {
   "cell_type": "markdown",
   "metadata": {},
   "source": [
    "## Dimensionality reduction"
   ]
  },
  {
   "cell_type": "code",
   "execution_count": null,
   "metadata": {},
   "outputs": [],
   "source": [
    "from sklearn.decomposition import PCA"
   ]
  },
  {
   "cell_type": "code",
   "execution_count": null,
   "metadata": {},
   "outputs": [],
   "source": [
    "pca = PCA(n_components=\"mle\")"
   ]
  },
  {
   "cell_type": "code",
   "execution_count": null,
   "metadata": {},
   "outputs": [],
   "source": [
    "pca.fit_transform()"
   ]
  }
 ],
 "metadata": {
  "kernelspec": {
   "display_name": "Python 3",
   "language": "python",
   "name": "python3"
  },
  "language_info": {
   "codemirror_mode": {
    "name": "ipython",
    "version": 3
   },
   "file_extension": ".py",
   "mimetype": "text/x-python",
   "name": "python",
   "nbconvert_exporter": "python",
   "pygments_lexer": "ipython3",
   "version": "3.7.4"
  }
 },
 "nbformat": 4,
 "nbformat_minor": 2
}
