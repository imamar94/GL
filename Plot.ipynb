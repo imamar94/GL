{
 "cells": [
  {
   "cell_type": "code",
   "execution_count": 1,
   "metadata": {},
   "outputs": [],
   "source": [
    "%matplotlib inline\n",
    "import numpy as np\n",
    "import pandas as pd\n",
    "import matplotlib.pyplot as plt\n",
    "import seaborn as sns\n",
    "import random\n",
    "\n",
    "#sns.set()"
   ]
  },
  {
   "cell_type": "code",
   "execution_count": null,
   "metadata": {},
   "outputs": [],
   "source": [
    "df_b = pd.read_csv(\"GL_MBO_SVM_RandomForest_MNIST_unbalanced_2N.csv\").rename(columns={\"N\":\"|X0|\"})\n",
    "df_x = df_b.iloc[:,[1,2,3,4,5]].sort_values([\"|X0|\"]).reset_index().drop([\"index\"], axis=1)\n",
    "df_x.iloc[:,[1,2,3,4]] = round(df_x.iloc[:,[1,2,3,4]] * 100.0,2).astype(str) + \"%\"\n",
    "df_x"
   ]
  },
  {
   "cell_type": "code",
   "execution_count": null,
   "metadata": {},
   "outputs": [],
   "source": [
    "df_plot = df_b.melt(id_vars=\"|X0|\", value_name=\"Accuracy\", value_vars=[\"GL\", \"MBO\", \"SVM\",\"RandomForest\"])\n",
    "sns.lineplot(data=df_plot, x=\"|X0|\", y=\"Accuracy\", hue=\"variable\")"
   ]
  },
  {
   "cell_type": "code",
   "execution_count": null,
   "metadata": {},
   "outputs": [],
   "source": [
    "df_b = pd.read_csv(\"GL_MBO_SVM_RandomForest_MNIST.csv\")\n",
    "# df_b.iloc[:,[4,1,2,3,5]].sort_values([\"|X0|\"]).reset_index().drop([\"index\"], axis=1)"
   ]
  },
  {
   "cell_type": "markdown",
   "metadata": {},
   "source": [
    "## Validasi Analisis"
   ]
  },
  {
   "cell_type": "code",
   "execution_count": null,
   "metadata": {},
   "outputs": [],
   "source": [
    "import numpy as np\n",
    "import scipy as sc"
   ]
  },
  {
   "cell_type": "code",
   "execution_count": 100,
   "metadata": {},
   "outputs": [],
   "source": [
    "def compare_mean(z, sigma, mean, cov, sample=100000):\n",
    "    X = np.random.multivariate_normal(mean, cov, sample)\n",
    "    f = lambda x: np.exp(-np.einsum('ij,ij->i', x-z, x-z)/(2*(sigma**2)))\n",
    "\n",
    "    m = len(mean)\n",
    "    I = np.identity(len(mean))\n",
    "    det_cov = np.linalg.det(cov)\n",
    "    det_denum = np.linalg.det(I*(sigma**2) + cov)\n",
    "    sig_2m = sigma**(2*m)\n",
    "    covv_inv = np.linalg.inv(I*(sigma**2) + cov)\n",
    "    mean_fx = np.sqrt(sig_2m/det_denum) * np.exp(-0.5*(z-mean).T.dot(covv_inv).dot(z-mean))\n",
    "    \n",
    "    print(\"Teorethical \\t\\t: \", mean_fx)\n",
    "    print(\"From Sample (N={})\\t: \".format(sample), np.mean(f(X)))"
   ]
  },
  {
   "cell_type": "code",
   "execution_count": 101,
   "metadata": {},
   "outputs": [
    {
     "name": "stdout",
     "output_type": "stream",
     "text": [
      "Teorethical \t\t:  0.46157145767458346\n",
      "From Sample (N=100000)\t:  0.4612511785376827\n"
     ]
    }
   ],
   "source": [
    "cov = np.array([\n",
    "    [1/10, 0, 0],\n",
    "    [0, 1/5, 0],\n",
    "    [0, 0, 1/7]\n",
    "])\n",
    "mean = np.array([2,3,2])\n",
    "z = np.array([1,1,1])\n",
    "sigma = 2\n",
    "\n",
    "compare_mean(z, sigma, mean, cov)"
   ]
  },
  {
   "cell_type": "code",
   "execution_count": 54,
   "metadata": {},
   "outputs": [],
   "source": [
    "?np.linalg.det"
   ]
  },
  {
   "cell_type": "code",
   "execution_count": 50,
   "metadata": {},
   "outputs": [
    {
     "data": {
      "text/plain": [
       "array([[1.1       , 0.        , 0.        ],\n",
       "       [0.        , 1.2       , 0.        ],\n",
       "       [0.        , 0.        , 1.14285714]])"
      ]
     },
     "execution_count": 50,
     "metadata": {},
     "output_type": "execute_result"
    }
   ],
   "source": [
    "I = np.identity(len(mean))\n",
    "I*(sigma**2) + cov"
   ]
  },
  {
   "cell_type": "code",
   "execution_count": null,
   "metadata": {},
   "outputs": [],
   "source": [
    "cov = np.array([\n",
    "    [1/7, 0],\n",
    "    [0, 1/7]\n",
    "])\n",
    "mean = np.array([0,3])\n",
    "z = np.array([0,0])\n",
    "sigma = 3\n",
    "\n",
    "compare_mean(z, sigma, mean, cov)"
   ]
  },
  {
   "cell_type": "code",
   "execution_count": 2,
   "metadata": {},
   "outputs": [],
   "source": [
    "import matplotlib\n",
    "matplotlib.rcParams['figure.figsize'] = [10, 5]"
   ]
  },
  {
   "cell_type": "code",
   "execution_count": 21,
   "metadata": {},
   "outputs": [
    {
     "data": {
      "text/plain": [
       "(-3.0, 5.0, -2.0, 3.0)"
      ]
     },
     "execution_count": 21,
     "metadata": {},
     "output_type": "execute_result"
    },
    {
     "data": {
      "image/png": "[encoded data removed]",
      "text/plain": [
       "<Figure size 720x360 with 1 Axes>"
      ]
     },
     "metadata": {
      "needs_background": "light"
     },
     "output_type": "display_data"
    }
   ],
   "source": [
    "cov = np.array([\n",
    "    [1/7, 0],\n",
    "    [0, 1/7]\n",
    "])\n",
    "\n",
    "cov2 = np.array([\n",
    "    [1/3, 1/7],\n",
    "    [1/7, 1/5]\n",
    "])\n",
    "\n",
    "mean1 = np.array([-2,0])\n",
    "mean2 = np.array([3,1])\n",
    "z = np.array([0,0])\n",
    "sigma = 3\n",
    "\n",
    "X00 = np.random.multivariate_normal(mean1, cov, 1000)\n",
    "X01 = np.random.multivariate_normal(mean2, cov2, 1000)\n",
    "\n",
    "plt.scatter(X00[:,0], X00[:,1], label=\"$X_{00}$\")\n",
    "plt.scatter(X01[:,0], X01[:,1], label=\"$X_{01}$\")\n",
    "plt.scatter([z[0]], [z[1]])\n",
    "plt.ylim([-2, 3])\n",
    "plt.xlim([-3, 5])\n",
    "plt.annotate(\"z\", (0,0), fontsize=14, fontweight=\"bold\")\n",
    "plt.annotate(\"$X_{00}$\", mean1, fontsize=14, fontweight=\"bold\")\n",
    "plt.annotate(\"$X_{01}$\", mean2, fontsize=14, fontweight=\"bold\")\n",
    "plt.axis(\"off\")"
   ]
  },
  {
   "cell_type": "code",
   "execution_count": null,
   "metadata": {},
   "outputs": [],
   "source": []
  },
  {
   "cell_type": "code",
   "execution_count": null,
   "metadata": {},
   "outputs": [],
   "source": []
  }
 ],
 "metadata": {
  "kernelspec": {
   "display_name": "Python 3",
   "language": "python",
   "name": "python3"
  },
  "language_info": {
   "codemirror_mode": {
    "name": "ipython",
    "version": 3
   },
   "file_extension": ".py",
   "mimetype": "text/x-python",
   "name": "python",
   "nbconvert_exporter": "python",
   "pygments_lexer": "ipython3",
   "version": "3.7.4"
  }
 },
 "nbformat": 4,
 "nbformat_minor": 2
}
