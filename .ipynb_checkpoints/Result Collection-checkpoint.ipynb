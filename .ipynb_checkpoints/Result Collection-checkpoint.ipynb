{
 "cells": [
  {
   "cell_type": "code",
   "execution_count": 1,
   "metadata": {},
   "outputs": [],
   "source": [
    "%matplotlib inline\n",
    "import numpy as np\n",
    "import pandas as pd\n",
    "import matplotlib.pyplot as plt\n",
    "import seaborn as sns\n",
    "import random\n",
    "from GraphLaplacian.binary import GraphLaplacian, MBOBinary\n",
    "from GraphLaplacian.multilabel import GLMultiClass, MBOMultiClass\n",
    "from GraphLaplacian.helper import plot\n",
    "import pdb\n",
    "from IPython.display import clear_output\n",
    "from sklearn.datasets import make_moons, make_circles, make_classification\n",
    "import scipy\n",
    "import pdb\n",
    "\n",
    "sns.set()"
   ]
  },
  {
   "cell_type": "code",
   "execution_count": 2,
   "metadata": {},
   "outputs": [],
   "source": [
    "from sklearn.metrics import accuracy_score, f1_score, precision_score, recall_score\n",
    "\n",
    "def create_score_sheet(method, y_true, y_pred):\n",
    "    return {\"Method\":method, \n",
    "            \"accuracy\":accuracy_score(y_true, y_pred), \n",
    "            \"f1_score\": f1_score(y_true, y_pred), \n",
    "            \"presicion\": precision_score(y_true, y_pred), \n",
    "            \"recall\": recall_score(y_true, y_pred)}"
   ]
  },
  {
   "cell_type": "markdown",
   "metadata": {},
   "source": [
    "## Data 1"
   ]
  },
  {
   "cell_type": "code",
   "execution_count": null,
   "metadata": {},
   "outputs": [],
   "source": [
    "blue = list(zip(np.random.random(500)*1.5, np.random.random(500)*1.5 + 0.8))\n",
    "red = list(zip(np.random.random(500)*1.5, np.random.random(500)*1.5 - 0.8))\n",
    "Y = list(np.ones(len(blue))) + list(np.ones(len(red))*0)\n",
    "X = list(blue) + list(red)\n",
    "\n",
    "plot(X, Y, [])"
   ]
  },
  {
   "cell_type": "markdown",
   "metadata": {},
   "source": [
    "## Balanced Class"
   ]
  },
  {
   "cell_type": "code",
   "execution_count": null,
   "metadata": {},
   "outputs": [],
   "source": [
    "X0 = list(blue[:30]) + list(red[:30])\n",
    "Y0 = list(np.ones(len(blue)))[:30] + list(np.ones(len(red))*0)[:30]\n",
    "X1 = list(blue[30:]) + list(red[30:])\n",
    "\n",
    "plot(X0, Y0, X1)"
   ]
  },
  {
   "cell_type": "code",
   "execution_count": null,
   "metadata": {},
   "outputs": [],
   "source": [
    "GL = GraphLaplacian(X0, Y0, X1, cov=0.5)\n",
    "GL.solve()\n",
    "plot(X0 + X1, GL.Y, [])"
   ]
  },
  {
   "cell_type": "code",
   "execution_count": null,
   "metadata": {},
   "outputs": [],
   "source": [
    "MBO = MBOBinary(X0, Y0, X1, cov=0.5, dT=0.001, Nd=3)\n",
    "MBO.solve()\n",
    "plot(X0 + X1, MBO.Y, [])"
   ]
  },
  {
   "cell_type": "markdown",
   "metadata": {},
   "source": [
    "## Unbalanced Class"
   ]
  },
  {
   "cell_type": "code",
   "execution_count": null,
   "metadata": {},
   "outputs": [],
   "source": [
    "N = 20\n",
    "X0 = list(blue[:2*N]) + list(red[:N])\n",
    "Y0 = list(np.ones(len(blue)))[:2*N] + list(np.ones(len(red))*0)[:N]\n",
    "X1 = list(blue[2*N:]) + list(red[N:])\n",
    "Y1 = list(np.ones(len(blue)))[2*N:] + list(np.ones(len(red))*0)[N:]\n",
    "\n",
    "plot(X0, Y0, X1)"
   ]
  },
  {
   "cell_type": "code",
   "execution_count": null,
   "metadata": {},
   "outputs": [],
   "source": [
    "ax = plot(X0, Y0, X1, return_ax=True)"
   ]
  },
  {
   "cell_type": "code",
   "execution_count": null,
   "metadata": {},
   "outputs": [],
   "source": [
    "ax.figure.savefig(\"output/test.png\")"
   ]
  },
  {
   "cell_type": "code",
   "execution_count": null,
   "metadata": {},
   "outputs": [],
   "source": [
    "GL = GraphLaplacian(X0, Y0, X1, cov=0.5)\n",
    "GL.solve()\n",
    "plot(X0 + X1, GL.Y, [])"
   ]
  },
  {
   "cell_type": "code",
   "execution_count": null,
   "metadata": {},
   "outputs": [],
   "source": [
    "MBO = MBOBinary(X0, Y0, X1, cov=0.5, dT=0.001, Nd=3)\n",
    "MBO.solve()\n",
    "plot(X0 + X1, MBO.Y, [])"
   ]
  },
  {
   "cell_type": "code",
   "execution_count": null,
   "metadata": {},
   "outputs": [],
   "source": [
    "print(accuracy_score(Y1, GL.Y[len(X0):]), f1_score(Y1, GL.Y[len(X0):]))\n",
    "print(accuracy_score(Y1, MBO.Y[len(X0):]), f1_score(Y1, MBO.Y[len(X0):]))"
   ]
  },
  {
   "cell_type": "code",
   "execution_count": null,
   "metadata": {},
   "outputs": [],
   "source": [
    "result = list()\n",
    "for N in [5, 10, 20, 40, 80, 160]:\n",
    "    X0 = list(blue[:2*N]) + list(red[:N])\n",
    "    Y0 = list(np.ones(len(blue)))[:2*N] + list(np.ones(len(red))*0)[:N]\n",
    "    X1 = list(blue[2*N:]) + list(red[N:])\n",
    "    Y1 = list(np.ones(len(blue)))[2*N:] + list(np.ones(len(red))*0)[N:]\n",
    "    \n",
    "    print(\"N Blue :\", 2*N, \"N Red :\", N)\n",
    "    print(\"Graph Laplacian\")\n",
    "    GL = GraphLaplacian(X0, Y0, X1, cov=0.5)\n",
    "    GL.solve()\n",
    "    display(plot(X0 + X1, GL.Y, []))\n",
    "    \n",
    "    print(\"MBO\")\n",
    "    MBO = MBOBinary(X0, Y0, X1, cov=0.5, dT=0.001, Nd=3)\n",
    "    MBO.solve()\n",
    "    display(plot(X0 + X1, MBO.Y, []))\n",
    "    print(\"=================================\")\n",
    "    score_gl = create_score_sheet(\"Graph Laplacian\", Y1, GL.Y[len(X0):])\n",
    "    score_gl[\"N\"] = N\n",
    "    score_mbo = create_score_sheet(\"MBO\", Y1, MBO.Y[len(X0):])\n",
    "    score_mbo[\"N\"] = N\n",
    "    result += [\n",
    "        score_gl,\n",
    "        score_mbo\n",
    "    ]"
   ]
  },
  {
   "cell_type": "code",
   "execution_count": null,
   "metadata": {},
   "outputs": [],
   "source": [
    "df = pd.DataFrame(result)\n",
    "df.to_csv(\"output/Imbalanced N 1000.csv\", encoding=\"utf-8\", index=False)"
   ]
  },
  {
   "cell_type": "markdown",
   "metadata": {},
   "source": [
    "## Different Density"
   ]
  },
  {
   "cell_type": "markdown",
   "metadata": {},
   "source": [
    "### 3:7"
   ]
  },
  {
   "cell_type": "code",
   "execution_count": null,
   "metadata": {},
   "outputs": [],
   "source": [
    "blue = list(zip(np.random.random(300)*1.5, np.random.random(300)*1.5 + 0.8))\n",
    "red = list(zip(np.random.random(700)*1.5, np.random.random(700)*1.5 - 0.8))\n",
    "Y = list(np.ones(len(blue))) + list(np.ones(len(red))*0)\n",
    "X = list(blue) + list(red)\n",
    "\n",
    "plot(X, Y, [])"
   ]
  },
  {
   "cell_type": "code",
   "execution_count": null,
   "metadata": {},
   "outputs": [],
   "source": [
    "X0 = list(blue[:30]) + list(red[:30])\n",
    "Y0 = list(np.ones(len(blue)))[:30] + list(np.ones(len(red))*0)[:30]\n",
    "X1 = list(blue[30:]) + list(red[30:])\n",
    "\n",
    "plot(X0, Y0, X1)"
   ]
  },
  {
   "cell_type": "code",
   "execution_count": null,
   "metadata": {},
   "outputs": [],
   "source": [
    "GL = GraphLaplacian(X0, Y0, X1, cov=0.5)\n",
    "GL.solve()\n",
    "plot(X0 + X1, GL.Y, [])"
   ]
  },
  {
   "cell_type": "code",
   "execution_count": null,
   "metadata": {},
   "outputs": [],
   "source": [
    "MBO = MBOBinary(X0, Y0, X1, cov=0.5, dT=0.001, Nd=3)\n",
    "MBO.solve()\n",
    "plot(X0 + X1, MBO.Y, [])"
   ]
  },
  {
   "cell_type": "markdown",
   "metadata": {},
   "source": [
    "### 4.5:5.5"
   ]
  },
  {
   "cell_type": "code",
   "execution_count": null,
   "metadata": {
    "scrolled": true
   },
   "outputs": [],
   "source": [
    "blue = list(zip(np.random.random(450)*1.5, np.random.random(450)*1.5 + 0.8))\n",
    "red = list(zip(np.random.random(550)*1.5, np.random.random(550)*1.5 - 0.8))\n",
    "Y = list(np.ones(len(blue))) + list(np.ones(len(red))*0)\n",
    "X = list(blue) + list(red)\n",
    "\n",
    "plot(X, Y, [])"
   ]
  },
  {
   "cell_type": "code",
   "execution_count": null,
   "metadata": {},
   "outputs": [],
   "source": [
    "X0 = list(blue[:30]) + list(red[:30])\n",
    "Y0 = list(np.ones(len(blue)))[:30] + list(np.ones(len(red))*0)[:30]\n",
    "X1 = list(blue[30:]) + list(red[30:])\n",
    "\n",
    "plot(X0, Y0, X1)"
   ]
  },
  {
   "cell_type": "code",
   "execution_count": null,
   "metadata": {},
   "outputs": [],
   "source": [
    "GL = GraphLaplacian(X0, Y0, X1, cov=0.5)\n",
    "GL.solve()\n",
    "plot(X0 + X1, GL.Y, [])"
   ]
  },
  {
   "cell_type": "code",
   "execution_count": null,
   "metadata": {},
   "outputs": [],
   "source": [
    "MBO = MBOBinary(X0, Y0, X1, cov=0.5, dT=0.001, Nd=3)\n",
    "MBO.solve()\n",
    "plot(X0 + X1, MBO.Y, [])"
   ]
  },
  {
   "cell_type": "code",
   "execution_count": null,
   "metadata": {},
   "outputs": [],
   "source": []
  }
 ],
 "metadata": {
  "kernelspec": {
   "display_name": "Python 3",
   "language": "python",
   "name": "python3"
  },
  "language_info": {
   "codemirror_mode": {
    "name": "ipython",
    "version": 3
   },
   "file_extension": ".py",
   "mimetype": "text/x-python",
   "name": "python",
   "nbconvert_exporter": "python",
   "pygments_lexer": "ipython3",
   "version": "3.6.9"
  }
 },
 "nbformat": 4,
 "nbformat_minor": 2
}
