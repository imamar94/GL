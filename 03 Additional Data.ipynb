{
 "cells": [
  {
   "cell_type": "code",
   "execution_count": 43,
   "metadata": {},
   "outputs": [],
   "source": [
    "%matplotlib inline\n",
    "import numpy as np\n",
    "import pandas as pd\n",
    "import matplotlib.pyplot as plt\n",
    "import matplotlib\n",
    "import seaborn as sns\n",
    "import random\n",
    "from GraphLaplacian.binary import GraphLaplacian, MBOBinary\n",
    "from GraphLaplacian.multilabel import GLMultiClass, MBOMultiClass\n",
    "from GraphLaplacian.helper import plot, plot2d\n",
    "import pdb\n",
    "from IPython.display import clear_output\n",
    "from sklearn.datasets import make_moons, make_circles, make_classification\n",
    "import scipy\n",
    "import pdb\n",
    "from datetime import datetime\n",
    "import itertools\n",
    "\n",
    "matplotlib.rcParams['figure.figsize'] = [5, 5]\n",
    "sns.set()\n",
    "sns.set_style(\"ticks\")"
   ]
  },
  {
   "cell_type": "code",
   "execution_count": 6,
   "metadata": {},
   "outputs": [],
   "source": [
    "import random\n",
    "import math\n",
    "\n",
    "from sklearn.metrics import accuracy_score, f1_score, precision_score, recall_score\n",
    "\n",
    "def create_score_sheet(method, y_true, y_pred):\n",
    "    return {\"Method\":method, \n",
    "            \"accuracy\":accuracy_score(y_true, y_pred), \n",
    "            \"f1_score\": f1_score(y_true, y_pred), \n",
    "            \"presicion\": precision_score(y_true, y_pred), \n",
    "            \"recall\": recall_score(y_true, y_pred)}\n",
    "\n",
    "def find_h(X, n_sample=5, n_neigh=5, use_mean=False):\n",
    "    np.random.seed(1000)\n",
    "    tree = scipy.spatial.cKDTree(X)\n",
    "    sample = random.sample(X, k=n_sample)\n",
    "    _func = lambda point: np.mean([x for x in tree.query(point, k = n_neigh+1)[0] if x > 0])\n",
    "    if use_mean:\n",
    "        h = np.mean([_func(x) for x in sample])\n",
    "    else:\n",
    "        h = np.max([_func(x) for x in sample])\n",
    "    return h\n",
    "\n",
    "# Xr = random.choices(X, k=10)"
   ]
  },
  {
   "cell_type": "code",
   "execution_count": 7,
   "metadata": {},
   "outputs": [],
   "source": [
    "colors = [\"#ffffff\", \"#ff6361\", \"#003f5c\", \"#63005c\", \"#006355\", \"#5c3f00\"]\n",
    "sns.set_palette(sns.color_palette(colors))"
   ]
  },
  {
   "cell_type": "code",
   "execution_count": 18,
   "metadata": {},
   "outputs": [],
   "source": [
    "wcut_to_denum = lambda x: np.sqrt(-2*np.log(x))\n",
    "denum_to_wcut = lambda x: np.exp(-(x**2)/2)"
   ]
  },
  {
   "cell_type": "markdown",
   "metadata": {},
   "source": [
    "# a"
   ]
  },
  {
   "cell_type": "code",
   "execution_count": 55,
   "metadata": {},
   "outputs": [
    {
     "data": {
      "image/png": "[encoded data removed]",
      "text/plain": [
       "<Figure size 360x360 with 1 Axes>"
      ]
     },
     "metadata": {},
     "output_type": "display_data"
    }
   ],
   "source": [
    "np.random.seed(1000)\n",
    "blue = list(zip(np.random.random(1000)*6, np.random.random(1000)*3 + 3))\n",
    "red = list(zip(np.random.random(1000)*6, np.random.random(1000)*3 - 0.2))\n",
    "Y = list(np.ones(len(blue))) + list(np.ones(len(red))*0)\n",
    "X = list(blue) + list(red)\n",
    "\n",
    "N = 20\n",
    "gamma = 5\n",
    "X0 = list(blue[:N]) + list(red[:gamma*N])\n",
    "Y0 = list(np.ones(len(blue)))[:N] + list(np.ones(len(red))*0)[:gamma*N]\n",
    "X1 = list(blue[N:]) + list(red[gamma*N:])\n",
    "Y1 = list(np.ones(len(blue)))[N:] + list(np.ones(len(red))*0)[gamma*N:]\n",
    "plot(X0, Y0, X1)"
   ]
  },
  {
   "cell_type": "code",
   "execution_count": 35,
   "metadata": {},
   "outputs": [],
   "source": [
    "h = find_h(X, len(X), 1, use_mean=False)/3.6"
   ]
  },
  {
   "cell_type": "code",
   "execution_count": 36,
   "metadata": {},
   "outputs": [
    {
     "name": "stdout",
     "output_type": "stream",
     "text": [
      "Graph Laplacian, denum=1\n",
      "{'Alg': 'GL', 'denum': 1, 'f1-score': 0.8926952141057934}\n",
      "Graph Laplacian, denum=2\n",
      "{'Alg': 'GL', 'denum': 2, 'f1-score': 0.8998998998998999}\n",
      "Graph Laplacian, denum=3\n",
      "{'Alg': 'GL', 'denum': 3, 'f1-score': 0.9}\n",
      "Graph Laplacian, denum=3.6\n",
      "{'Alg': 'GL', 'denum': 3.6, 'f1-score': 0.9}\n",
      "Graph Laplacian, denum=4\n",
      "{'Alg': 'GL', 'denum': 4, 'f1-score': 0.9}\n",
      "Graph Laplacian, denum=5\n",
      "{'Alg': 'GL', 'denum': 5, 'f1-score': 0.8938097634625063}\n"
     ]
    }
   ],
   "source": [
    "denums = [1, 2, 3, 3.6, 4, 5]\n",
    "dataa = list()\n",
    "for d in denums:\n",
    "    h = find_h(X, len(X), 1, use_mean=False)/d\n",
    "    print(\"Graph Laplacian, denum={}\".format(d))\n",
    "    w_cut = 0.001 if (denum_to_wcut(d)*0.99)>0.001 else denum_to_wcut(d)*0.99\n",
    "    GL = GraphLaplacian(X0, Y0, X1, sigma=h, w_cut=w_cut)\n",
    "    GL.solve()\n",
    "    #plot2d(GL, title=r\"GL, $\\sigma=D/{}$\".format(h))\n",
    "    score = f1_score(Y, GL.Y)\n",
    "    dataa.append({\"Alg\":\"GL\", \"denum\":d, \"f1-score\":score})\n",
    "    print({\"Alg\":\"GL\", \"denum\":d, \"f1-score\":score})"
   ]
  },
  {
   "cell_type": "code",
   "execution_count": 56,
   "metadata": {},
   "outputs": [
    {
     "name": "stdout",
     "output_type": "stream",
     "text": [
      "MBO, (denum, dT) : (1, 0.1)\n",
      "Calculate weight matrix... DONE\n",
      "Interation 0 error 0.644718792866941\n",
      "Interation 1 error 0.0\n",
      "{'Alg': 'MBO', 'dT': 0.1, 'denum': 1, 'f1-score': 0.7565066512434934}\n",
      "MBO, (denum, dT) : (1, 0.01)\n",
      "Calculate weight matrix... DONE\n",
      "Interation 0 error 1.0681818181818181\n",
      "Interation 1 error 0.0\n",
      "{'Alg': 'MBO', 'dT': 0.01, 'denum': 1, 'f1-score': 0.5472222222222223}\n",
      "MBO, (denum, dT) : (1, 0.005)\n",
      "Calculate weight matrix... DONE\n",
      "Interation 0 error 1.0681818181818181\n",
      "Interation 1 error 0.0\n",
      "{'Alg': 'MBO', 'dT': 0.005, 'denum': 1, 'f1-score': 0.5472222222222223}\n",
      "MBO, (denum, dT) : (1, 0.001)\n",
      "Calculate weight matrix... DONE\n",
      "Interation 0 error 1.0681818181818181\n",
      "Interation 1 error 0.0\n",
      "{'Alg': 'MBO', 'dT': 0.001, 'denum': 1, 'f1-score': 0.5472222222222223}\n",
      "MBO, (denum, dT) : (2, 0.1)\n",
      "Calculate weight matrix... DONE\n",
      "Interation 0 error 0.7654723127035831\n",
      "Interation 1 error 0.0\n",
      "{'Alg': 'MBO', 'dT': 0.1, 'denum': 2, 'f1-score': 0.6815365551425031}\n",
      "MBO, (denum, dT) : (2, 0.01)\n",
      "Calculate weight matrix... DONE\n",
      "Interation 0 error 1.2335958005249343\n",
      "Interation 1 error 0.0\n",
      "{'Alg': 'MBO', 'dT': 0.01, 'denum': 2, 'f1-score': 0.501086169442433}\n",
      "MBO, (denum, dT) : (2, 0.005)\n",
      "Calculate weight matrix... DONE\n",
      "Interation 0 error 1.2335958005249343\n",
      "Interation 1 error 0.0\n",
      "{'Alg': 'MBO', 'dT': 0.005, 'denum': 2, 'f1-score': 0.501086169442433}\n",
      "MBO, (denum, dT) : (2, 0.001)\n",
      "Calculate weight matrix... DONE\n",
      "Interation 0 error 1.2335958005249343\n",
      "Interation 1 error 0.0\n",
      "{'Alg': 'MBO', 'dT': 0.001, 'denum': 2, 'f1-score': 0.501086169442433}\n",
      "MBO, (denum, dT) : (3, 0.1)\n",
      "Calculate weight matrix... DONE\n",
      "Interation 0 error 1.0930232558139534\n",
      "Interation 1 error 0.0\n",
      "{'Alg': 'MBO', 'dT': 0.1, 'denum': 3, 'f1-score': 0.5384615384615384}\n",
      "MBO, (denum, dT) : (3, 0.01)\n",
      "Calculate weight matrix... DONE\n",
      "Interation 0 error 1.7028985507246377\n",
      "Interation 1 error 0.0\n",
      "{'Alg': 'MBO', 'dT': 0.01, 'denum': 3, 'f1-score': 0.39028213166144204}\n",
      "MBO, (denum, dT) : (3, 0.005)\n",
      "Calculate weight matrix... DONE\n",
      "Interation 0 error 1.7028985507246377\n",
      "Interation 1 error 0.0\n",
      "{'Alg': 'MBO', 'dT': 0.005, 'denum': 3, 'f1-score': 0.39028213166144204}\n",
      "MBO, (denum, dT) : (3, 0.001)\n",
      "Calculate weight matrix... DONE\n",
      "Interation 0 error 1.7028985507246377\n",
      "Interation 1 error 0.0\n",
      "{'Alg': 'MBO', 'dT': 0.001, 'denum': 3, 'f1-score': 0.39028213166144204}\n",
      "MBO, (denum, dT) : (3.6, 0.1)\n",
      "Calculate weight matrix... DONE\n",
      "Interation 0 error 1.298342541436464\n",
      "Interation 1 error 0.0\n",
      "{'Alg': 'MBO', 'dT': 0.1, 'denum': 3.6, 'f1-score': 0.48311306901615275}\n",
      "MBO, (denum, dT) : (3.6, 0.01)\n",
      "Calculate weight matrix... DONE\n",
      "Interation 0 error 2.0704845814977975\n",
      "Interation 1 error 0.0\n",
      "{'Alg': 'MBO', 'dT': 0.01, 'denum': 3.6, 'f1-score': 0.3374083129584352}\n",
      "MBO, (denum, dT) : (3.6, 0.005)\n",
      "Calculate weight matrix... DONE\n",
      "Interation 0 error 2.0704845814977975\n",
      "Interation 1 error 0.0\n",
      "{'Alg': 'MBO', 'dT': 0.005, 'denum': 3.6, 'f1-score': 0.3374083129584352}\n",
      "MBO, (denum, dT) : (3.6, 0.001)\n",
      "Calculate weight matrix... DONE\n",
      "Interation 0 error 2.0704845814977975\n",
      "Interation 1 error 0.0\n",
      "{'Alg': 'MBO', 'dT': 0.001, 'denum': 3.6, 'f1-score': 0.3374083129584352}\n",
      "MBO, (denum, dT) : (4, 0.1)\n",
      "Calculate weight matrix... DONE\n",
      "Interation 0 error 1.492063492063492\n",
      "Interation 1 error 0.0\n",
      "{'Alg': 'MBO', 'dT': 0.1, 'denum': 4, 'f1-score': 0.4365019011406844}\n",
      "MBO, (denum, dT) : (4, 0.01)\n",
      "Calculate weight matrix... DONE\n",
      "Interation 0 error 2.2815533980582523\n",
      "Interation 1 error 0.0\n",
      "{'Alg': 'MBO', 'dT': 0.01, 'denum': 4, 'f1-score': 0.31343283582089554}\n",
      "MBO, (denum, dT) : (4, 0.005)\n",
      "Calculate weight matrix... DONE\n",
      "Interation 0 error 2.2815533980582523\n",
      "Interation 1 error 0.0\n",
      "{'Alg': 'MBO', 'dT': 0.005, 'denum': 4, 'f1-score': 0.31343283582089554}\n",
      "MBO, (denum, dT) : (4, 0.001)\n",
      "Calculate weight matrix... DONE\n",
      "Interation 0 error 2.2815533980582523\n",
      "Interation 1 error 0.0\n",
      "{'Alg': 'MBO', 'dT': 0.001, 'denum': 4, 'f1-score': 0.31343283582089554}\n",
      "MBO, (denum, dT) : (5, 0.1)\n",
      "Calculate weight matrix... DONE\n",
      "Interation 0 error 2.052401746724891\n",
      "Interation 1 error 0.0\n",
      "{'Alg': 'MBO', 'dT': 0.1, 'denum': 5, 'f1-score': 0.33848657445077296}\n",
      "MBO, (denum, dT) : (5, 0.01)\n",
      "Calculate weight matrix... DONE\n",
      "Interation 0 error 2.7011494252873565\n",
      "Interation 1 error 0.0\n",
      "{'Alg': 'MBO', 'dT': 0.01, 'denum': 5, 'f1-score': 0.26916524701873934}\n",
      "MBO, (denum, dT) : (5, 0.005)\n",
      "Calculate weight matrix... DONE\n",
      "Interation 0 error 2.596685082872928\n",
      "Interation 1 error 0.0\n",
      "{'Alg': 'MBO', 'dT': 0.005, 'denum': 5, 'f1-score': 0.279424216765453}\n",
      "MBO, (denum, dT) : (5, 0.001)\n",
      "Calculate weight matrix... DONE\n",
      "Interation 0 error 2.3618090452261304\n",
      "Interation 1 error 0.0\n",
      "{'Alg': 'MBO', 'dT': 0.001, 'denum': 5, 'f1-score': 0.3035863219349458}\n"
     ]
    }
   ],
   "source": [
    "denums = [1, 2, 3, 3.6, 4, 5]\n",
    "dts = [0.1, 0.01, 0.005, 0.001]\n",
    "pairs = list(itertools.product(denums, dts))\n",
    "dataa_mbo = list()\n",
    "for d, t in pairs:\n",
    "    h = find_h(list(X), len(X), 1, use_mean=False)/d\n",
    "    print(\"MBO, (denum, dT) : ({}, {})\".format(d, t))\n",
    "    mbo = MBOBinary(X0, Y0, X1, sigma=h, dT=t, w_cut=denum_to_wcut(d)*0.99, initial=\"0.5\")\n",
    "    mbo.solve()\n",
    "    #plot2d(GL, title=r\"GL, $\\sigma=D/{}$\".format(h))\n",
    "    score = f1_score(Y, mbo.Y)\n",
    "    dataa_mbo.append({\"Alg\":\"MBO\", \"dT\":t,  \"denum\":d, \"f1-score\":score})\n",
    "    print({\"Alg\":\"MBO\", \"dT\":t,  \"denum\":d, \"f1-score\":score})"
   ]
  },
  {
   "cell_type": "code",
   "execution_count": 57,
   "metadata": {},
   "outputs": [
    {
     "data": {
      "text/plain": [
       "[{'Alg': 'MBO', 'dT': 0.1, 'denum': 1, 'f1-score': 0.7565066512434934},\n",
       " {'Alg': 'MBO', 'dT': 0.01, 'denum': 1, 'f1-score': 0.5472222222222223},\n",
       " {'Alg': 'MBO', 'dT': 0.005, 'denum': 1, 'f1-score': 0.5472222222222223},\n",
       " {'Alg': 'MBO', 'dT': 0.001, 'denum': 1, 'f1-score': 0.5472222222222223},\n",
       " {'Alg': 'MBO', 'dT': 0.1, 'denum': 2, 'f1-score': 0.6815365551425031},\n",
       " {'Alg': 'MBO', 'dT': 0.01, 'denum': 2, 'f1-score': 0.501086169442433},\n",
       " {'Alg': 'MBO', 'dT': 0.005, 'denum': 2, 'f1-score': 0.501086169442433},\n",
       " {'Alg': 'MBO', 'dT': 0.001, 'denum': 2, 'f1-score': 0.501086169442433},\n",
       " {'Alg': 'MBO', 'dT': 0.1, 'denum': 3, 'f1-score': 0.5384615384615384},\n",
       " {'Alg': 'MBO', 'dT': 0.01, 'denum': 3, 'f1-score': 0.39028213166144204},\n",
       " {'Alg': 'MBO', 'dT': 0.005, 'denum': 3, 'f1-score': 0.39028213166144204},\n",
       " {'Alg': 'MBO', 'dT': 0.001, 'denum': 3, 'f1-score': 0.39028213166144204},\n",
       " {'Alg': 'MBO', 'dT': 0.1, 'denum': 3.6, 'f1-score': 0.48311306901615275},\n",
       " {'Alg': 'MBO', 'dT': 0.01, 'denum': 3.6, 'f1-score': 0.3374083129584352},\n",
       " {'Alg': 'MBO', 'dT': 0.005, 'denum': 3.6, 'f1-score': 0.3374083129584352},\n",
       " {'Alg': 'MBO', 'dT': 0.001, 'denum': 3.6, 'f1-score': 0.3374083129584352},\n",
       " {'Alg': 'MBO', 'dT': 0.1, 'denum': 4, 'f1-score': 0.4365019011406844},\n",
       " {'Alg': 'MBO', 'dT': 0.01, 'denum': 4, 'f1-score': 0.31343283582089554},\n",
       " {'Alg': 'MBO', 'dT': 0.005, 'denum': 4, 'f1-score': 0.31343283582089554},\n",
       " {'Alg': 'MBO', 'dT': 0.001, 'denum': 4, 'f1-score': 0.31343283582089554},\n",
       " {'Alg': 'MBO', 'dT': 0.1, 'denum': 5, 'f1-score': 0.33848657445077296},\n",
       " {'Alg': 'MBO', 'dT': 0.01, 'denum': 5, 'f1-score': 0.26916524701873934},\n",
       " {'Alg': 'MBO', 'dT': 0.005, 'denum': 5, 'f1-score': 0.279424216765453},\n",
       " {'Alg': 'MBO', 'dT': 0.001, 'denum': 5, 'f1-score': 0.3035863219349458}]"
      ]
     },
     "execution_count": 57,
     "metadata": {},
     "output_type": "execute_result"
    }
   ],
   "source": [
    "dataa_mbo"
   ]
  },
  {
   "cell_type": "markdown",
   "metadata": {},
   "source": [
    "# b"
   ]
  },
  {
   "cell_type": "code",
   "execution_count": 58,
   "metadata": {},
   "outputs": [
    {
     "data": {
      "image/png": "[encoded data removed]",
      "text/plain": [
       "<Figure size 360x360 with 1 Axes>"
      ]
     },
     "metadata": {},
     "output_type": "display_data"
    }
   ],
   "source": [
    "np.random.seed(1000)\n",
    "cov1 = np.array([[6,0],[0,2]])\n",
    "blue = np.random.multivariate_normal(mean=[0,2], cov=cov1, size=1000)\n",
    "cov2 = np.array([[6,0],[0,2]])\n",
    "red = np.random.multivariate_normal(mean=[0,-3], cov=cov2, size=1000)\n",
    "Y = list(np.ones(len(blue))) + list(np.ones(len(red))*0)\n",
    "X = list(blue) + list(red)\n",
    "h = find_h(X, len(X), 1, use_mean=False)/3.6\n",
    "plot(X, Y, [])"
   ]
  },
  {
   "cell_type": "code",
   "execution_count": 38,
   "metadata": {},
   "outputs": [
    {
     "name": "stdout",
     "output_type": "stream",
     "text": [
      "Graph Laplacian, denum=1\n",
      "{'Alg': 'GL', 'denum': 1, 'f1-score': 0.0392156862745098}\n",
      "Graph Laplacian, denum=2\n",
      "{'Alg': 'GL', 'denum': 2, 'f1-score': 0.0392156862745098}\n",
      "Graph Laplacian, denum=3\n",
      "{'Alg': 'GL', 'denum': 3, 'f1-score': 0.8154599891126838}\n",
      "Graph Laplacian, denum=3.6\n",
      "{'Alg': 'GL', 'denum': 3.6, 'f1-score': 0.8642745709828393}\n",
      "Graph Laplacian, denum=4\n",
      "{'Alg': 'GL', 'denum': 4, 'f1-score': 0.8785238339313172}\n",
      "Graph Laplacian, denum=5\n",
      "{'Alg': 'GL', 'denum': 5, 'f1-score': 0.8870886075949366}\n"
     ]
    }
   ],
   "source": [
    "denums = [1, 2, 3, 3.6, 4, 5]\n",
    "datab = list()\n",
    "for d in denums:\n",
    "    h = find_h(X, len(X), 1, use_mean=False)/d\n",
    "    print(\"Graph Laplacian, denum={}\".format(d))\n",
    "    w_cut = 0.001 if (denum_to_wcut(d)*0.99)>0.001 else denum_to_wcut(d)*0.99\n",
    "    GL = GraphLaplacian(X0, Y0, X1, sigma=h, w_cut=w_cut)\n",
    "    GL.solve()\n",
    "    #plot2d(GL, title=r\"GL, $\\sigma=D/{}$\".format(h))\n",
    "    score = f1_score(Y, GL.Y)\n",
    "    datab.append({\"Alg\":\"GL\", \"denum\":d, \"f1-score\":score})\n",
    "    print({\"Alg\":\"GL\", \"denum\":d, \"f1-score\":score})"
   ]
  },
  {
   "cell_type": "code",
   "execution_count": null,
   "metadata": {},
   "outputs": [
    {
     "name": "stdout",
     "output_type": "stream",
     "text": [
      "MBO, (denum, dT) : (1, 0.1)\n",
      "Calculate weight matrix... DONE\n",
      "Interation 0 error 1.3946587537091988\n",
      "Interation 1 error 15.85\n",
      "Interation 2 error 0.0\n",
      "{'Alg': 'MBO', 'dT': 0.1, 'denum': 1, 'f1-score': 0.0392156862745098}\n",
      "MBO, (denum, dT) : (1, 0.01)\n",
      "Calculate weight matrix... DONE\n",
      "Interation 0 error 0.5845771144278606\n",
      "Interation 1 error 0.014705882352941176\n",
      "Interation 2 error 0.0072992700729927005\n",
      "Interation 3 error 0.0024271844660194173\n",
      "Interation 4 error 0.0012121212121212121\n",
      "Interation 5 error 0.0024183796856106408\n",
      "Interation 6 error 0.0\n",
      "{'Alg': 'MBO', 'dT': 0.01, 'denum': 1, 'f1-score': 0.8133552271483305}\n",
      "MBO, (denum, dT) : (1, 0.005)\n",
      "Calculate weight matrix... DONE\n",
      "Interation 0 error 0.5676328502415459\n",
      "Interation 1 error 0.0\n",
      "{'Alg': 'MBO', 'dT': 0.005, 'denum': 1, 'f1-score': 0.8140043763676149}\n",
      "MBO, (denum, dT) : (1, 0.001)\n",
      "Calculate weight matrix... DONE\n",
      "Interation 0 error 0.556872037914692\n",
      "Interation 1 error 0.0\n",
      "{'Alg': 'MBO', 'dT': 0.001, 'denum': 1, 'f1-score': 0.8232104121475055}\n",
      "MBO, (denum, dT) : (2, 0.1)\n",
      "Calculate weight matrix... "
     ]
    }
   ],
   "source": [
    "denums = [1, 2, 3, 3.6, 4, 5]\n",
    "dts = [0.1, 0.01, 0.005, 0.001]\n",
    "pairs = list(itertools.product(denums, dts))\n",
    "datab_mbo = list()\n",
    "for d, t in pairs:\n",
    "    h = find_h(list(X), len(X), 1, use_mean=False)/d\n",
    "    print(\"MBO, (denum, dT) : ({}, {})\".format(d, t))\n",
    "    mbo = MBOBinary(X0, Y0, X1, sigma=h, dT=t, w_cut=denum_to_wcut(d)*0.99, initial=\"0.5\")\n",
    "    mbo.solve()\n",
    "    #plot2d(GL, title=r\"GL, $\\sigma=D/{}$\".format(h))\n",
    "    score = f1_score(Y, mbo.Y)\n",
    "    datab_mbo.append({\"Alg\":\"MBO\", \"dT\":t,  \"denum\":d, \"f1-score\":score})\n",
    "    print({\"Alg\":\"MBO\", \"dT\":t,  \"denum\":d, \"f1-score\":score})"
   ]
  },
  {
   "cell_type": "markdown",
   "metadata": {},
   "source": [
    "# c"
   ]
  },
  {
   "cell_type": "code",
   "execution_count": 52,
   "metadata": {},
   "outputs": [
    {
     "data": {
      "image/png": "[encoded data removed]",
      "text/plain": [
       "<Figure size 360x360 with 1 Axes>"
      ]
     },
     "metadata": {},
     "output_type": "display_data"
    }
   ],
   "source": [
    "X, Y = make_circles(noise=0.11, factor=0.5, random_state=1, n_samples=2000)\n",
    "X = X * 3\n",
    "\n",
    "plot(X,Y,[])"
   ]
  },
  {
   "cell_type": "code",
   "execution_count": 53,
   "metadata": {},
   "outputs": [
    {
     "data": {
      "image/png": "[encoded data removed]",
      "text/plain": [
       "<Figure size 360x360 with 1 Axes>"
      ]
     },
     "metadata": {},
     "output_type": "display_data"
    }
   ],
   "source": [
    "N = 30\n",
    "gamma = 1\n",
    "X0 = list([X[i] for i,y in enumerate(Y) if y==0][:N] + [X[i] for i,y in enumerate(Y) if y==1][:gamma*N])\n",
    "Y0 = list([y for y in Y if y==0][:N] + [y for y in Y if y==1][:gamma*N])\n",
    "X1 = list(X[(1+gamma)*N:])\n",
    "# X = X0 + X1\n",
    "plot(X0, Y0, X1)"
   ]
  },
  {
   "cell_type": "code",
   "execution_count": 41,
   "metadata": {},
   "outputs": [
    {
     "name": "stdout",
     "output_type": "stream",
     "text": [
      "Graph Laplacian, denum=1\n",
      "{'Alg': 'GL', 'denum': 1, 'f1-score': 0.9688273132112815}\n",
      "Graph Laplacian, denum=2\n",
      "{'Alg': 'GL', 'denum': 2, 'f1-score': 0.9712301587301587}\n",
      "Graph Laplacian, denum=3\n",
      "{'Alg': 'GL', 'denum': 3, 'f1-score': 0.9721393034825871}\n",
      "Graph Laplacian, denum=3.6\n",
      "{'Alg': 'GL', 'denum': 3.6, 'f1-score': 0.9716276754604282}\n",
      "Graph Laplacian, denum=4\n",
      "{'Alg': 'GL', 'denum': 4, 'f1-score': 0.9706028898854012}\n",
      "Graph Laplacian, denum=5\n",
      "{'Alg': 'GL', 'denum': 5, 'f1-score': 0.9705441837244133}\n"
     ]
    }
   ],
   "source": [
    "denums = [1, 2, 3, 3.6, 4, 5]\n",
    "datac = list()\n",
    "for d in denums:\n",
    "    h = find_h(list(X), len(X), 1, use_mean=False)/d\n",
    "    print(\"Graph Laplacian, denum={}\".format(d))\n",
    "    GL = GraphLaplacian(X0, Y0, X1, sigma=h, w_cut=denum_to_wcut(d)*0.99)\n",
    "    GL.solve()\n",
    "    #plot2d(GL, title=r\"GL, $\\sigma=D/{}$\".format(h))\n",
    "    score = f1_score(Y, GL.Y)\n",
    "    datac.append({\"Alg\":\"GL\", \"denum\":d, \"f1-score\":score})\n",
    "    print({\"Alg\":\"GL\", \"denum\":d, \"f1-score\":score})"
   ]
  },
  {
   "cell_type": "code",
   "execution_count": 54,
   "metadata": {},
   "outputs": [
    {
     "name": "stdout",
     "output_type": "stream",
     "text": [
      "MBO, (denum, dT) : (1, 0.1)\n",
      "Calculate weight matrix... DONE\n",
      "Interation 0 error 0.4727095516569201\n",
      "Interation 1 error 0.0058823529411764705\n",
      "Interation 2 error 0.0019646365422396855\n",
      "Interation 3 error 0.001968503937007874\n",
      "Interation 4 error 0.0\n",
      "{'Alg': 'MBO', 'dT': 0.1, 'denum': 1, 'f1-score': 0.9702380952380953}\n",
      "MBO, (denum, dT) : (1, 0.01)\n",
      "Calculate weight matrix... DONE\n",
      "Interation 0 error 0.47317073170731705\n",
      "Interation 1 error 0.0\n",
      "{'Alg': 'MBO', 'dT': 0.01, 'denum': 1, 'f1-score': 0.9639506172839506}\n",
      "MBO, (denum, dT) : (1, 0.005)\n",
      "Calculate weight matrix... DONE\n",
      "Interation 0 error 0.474559686888454\n",
      "Interation 1 error 0.0\n",
      "{'Alg': 'MBO', 'dT': 0.005, 'denum': 1, 'f1-score': 0.9624134520276955}\n",
      "MBO, (denum, dT) : (1, 0.001)\n",
      "Calculate weight matrix... DONE\n",
      "Interation 0 error 0.48597194388777554\n",
      "Interation 1 error 0.0\n",
      "{'Alg': 'MBO', 'dT': 0.001, 'denum': 1, 'f1-score': 0.9669669669669669}\n",
      "MBO, (denum, dT) : (2, 0.1)\n",
      "Calculate weight matrix... DONE\n",
      "Interation 0 error 0.4717898832684825\n",
      "Interation 1 error 0.001949317738791423\n",
      "Interation 2 error 0.0\n",
      "{'Alg': 'MBO', 'dT': 0.1, 'denum': 2, 'f1-score': 0.9634748272458045}\n",
      "MBO, (denum, dT) : (2, 0.01)\n",
      "Calculate weight matrix... DONE\n",
      "Interation 0 error 0.4736328125\n",
      "Interation 1 error 0.0\n",
      "{'Alg': 'MBO', 'dT': 0.01, 'denum': 2, 'f1-score': 0.9604743083003953}\n",
      "MBO, (denum, dT) : (2, 0.005)\n",
      "Calculate weight matrix... DONE\n",
      "Interation 0 error 0.4903943377148635\n",
      "Interation 1 error 0.0\n",
      "{'Alg': 'MBO', 'dT': 0.005, 'denum': 2, 'f1-score': 0.9643036701860231}\n",
      "MBO, (denum, dT) : (2, 0.001)\n",
      "Calculate weight matrix... DONE\n",
      "Interation 0 error 0.4903943377148635\n",
      "Interation 1 error 0.0\n",
      "{'Alg': 'MBO', 'dT': 0.001, 'denum': 2, 'f1-score': 0.9643036701860231}\n",
      "MBO, (denum, dT) : (3, 0.1)\n",
      "Calculate weight matrix... DONE\n",
      "Interation 0 error 0.47549019607843135\n",
      "Interation 1 error 0.0\n",
      "{'Alg': 'MBO', 'dT': 0.1, 'denum': 3, 'f1-score': 0.9633663366336633}\n",
      "MBO, (denum, dT) : (3, 0.01)\n",
      "Calculate weight matrix... DONE\n",
      "Interation 0 error 0.5154091392136025\n",
      "Interation 1 error 0.0\n",
      "{'Alg': 'MBO', 'dT': 0.01, 'denum': 3, 'f1-score': 0.9417825862957239}\n",
      "MBO, (denum, dT) : (3, 0.005)\n",
      "Calculate weight matrix... DONE\n",
      "Interation 0 error 0.5154091392136025\n",
      "Interation 1 error 0.0\n",
      "{'Alg': 'MBO', 'dT': 0.005, 'denum': 3, 'f1-score': 0.9417825862957239}\n",
      "MBO, (denum, dT) : (3, 0.001)\n",
      "Calculate weight matrix... DONE\n",
      "Interation 0 error 0.5154091392136025\n",
      "Interation 1 error 0.0\n",
      "{'Alg': 'MBO', 'dT': 0.001, 'denum': 3, 'f1-score': 0.9417825862957239}\n",
      "MBO, (denum, dT) : (3.6, 0.1)\n",
      "Calculate weight matrix... DONE\n",
      "Interation 0 error 0.47783251231527096\n",
      "Interation 1 error 0.0\n",
      "{'Alg': 'MBO', 'dT': 0.1, 'denum': 3.6, 'f1-score': 0.961786600496278}\n",
      "MBO, (denum, dT) : (3.6, 0.01)\n",
      "Calculate weight matrix... DONE\n",
      "Interation 0 error 0.5517633674630261\n",
      "Interation 1 error 0.0\n",
      "{'Alg': 'MBO', 'dT': 0.01, 'denum': 3.6, 'f1-score': 0.9079297498669506}\n",
      "MBO, (denum, dT) : (3.6, 0.005)\n",
      "Calculate weight matrix... DONE\n",
      "Interation 0 error 0.5517633674630261\n",
      "Interation 1 error 0.0\n",
      "{'Alg': 'MBO', 'dT': 0.005, 'denum': 3.6, 'f1-score': 0.9079297498669506}\n",
      "MBO, (denum, dT) : (3.6, 0.001)\n",
      "Calculate weight matrix... DONE\n",
      "Interation 0 error 0.5511363636363636\n",
      "Interation 1 error 0.0\n",
      "{'Alg': 'MBO', 'dT': 0.001, 'denum': 3.6, 'f1-score': 0.9085106382978724}\n",
      "MBO, (denum, dT) : (4, 0.1)\n",
      "Calculate weight matrix... DONE\n",
      "Interation 0 error 0.4801980198019802\n",
      "Interation 1 error 0.0\n",
      "{'Alg': 'MBO', 'dT': 0.1, 'denum': 4, 'f1-score': 0.9621890547263681}\n",
      "MBO, (denum, dT) : (4, 0.01)\n",
      "Calculate weight matrix... DONE\n",
      "Interation 0 error 0.5679156908665105\n",
      "Interation 1 error 0.0\n",
      "{'Alg': 'MBO', 'dT': 0.01, 'denum': 4, 'f1-score': 0.8942826321467097}\n",
      "MBO, (denum, dT) : (4, 0.005)\n",
      "Calculate weight matrix... DONE\n",
      "Interation 0 error 0.5626450116009281\n",
      "Interation 1 error 0.0\n",
      "{'Alg': 'MBO', 'dT': 0.005, 'denum': 4, 'f1-score': 0.8979591836734694}\n",
      "MBO, (denum, dT) : (4, 0.001)\n",
      "Calculate weight matrix... DONE\n",
      "Interation 0 error 0.5626450116009281\n",
      "Interation 1 error 0.0\n",
      "{'Alg': 'MBO', 'dT': 0.001, 'denum': 4, 'f1-score': 0.8979591836734694}\n",
      "MBO, (denum, dT) : (5, 0.1)\n",
      "Calculate weight matrix... DONE\n",
      "Interation 0 error 0.4918864097363083\n",
      "Interation 1 error 0.0\n",
      "{'Alg': 'MBO', 'dT': 0.1, 'denum': 5, 'f1-score': 0.9607250755287009}\n",
      "MBO, (denum, dT) : (5, 0.01)\n",
      "Calculate weight matrix... DONE\n",
      "Interation 0 error 0.6323337679269883\n",
      "Interation 1 error 0.0\n",
      "{'Alg': 'MBO', 'dT': 0.01, 'denum': 5, 'f1-score': 0.8421052631578948}\n",
      "MBO, (denum, dT) : (5, 0.005)\n",
      "Calculate weight matrix... DONE\n",
      "Interation 0 error 0.6170483460559797\n",
      "Interation 1 error 0.0\n",
      "{'Alg': 'MBO', 'dT': 0.005, 'denum': 5, 'f1-score': 0.8533034714445689}\n",
      "MBO, (denum, dT) : (5, 0.001)\n",
      "Calculate weight matrix... DONE\n",
      "Interation 0 error 0.5943627450980392\n",
      "Interation 1 error 0.0\n",
      "{'Alg': 'MBO', 'dT': 0.001, 'denum': 5, 'f1-score': 0.8711453744493391}\n"
     ]
    }
   ],
   "source": [
    "denums = [1, 2, 3, 3.6, 4, 5]\n",
    "dts = [0.1, 0.01, 0.005, 0.001]\n",
    "pairs = list(itertools.product(denums, dts))\n",
    "datac_mbo = list()\n",
    "for d, t in pairs:\n",
    "    h = find_h(list(X), len(X), 1, use_mean=False)/d\n",
    "    print(\"MBO, (denum, dT) : ({}, {})\".format(d, t))\n",
    "    mbo = MBOBinary(X0, Y0, X1, sigma=h, dT=t, w_cut=denum_to_wcut(d)*0.99, initial=\"0.5\")\n",
    "    mbo.solve()\n",
    "    #plot2d(GL, title=r\"GL, $\\sigma=D/{}$\".format(h))\n",
    "    score = f1_score(Y, mbo.Y)\n",
    "    datac_mbo.append({\"Alg\":\"MBO\", \"dT\":t,  \"denum\":d, \"f1-score\":score})\n",
    "    print({\"Alg\":\"MBO\", \"dT\":t,  \"denum\":d, \"f1-score\":score})"
   ]
  },
  {
   "cell_type": "code",
   "execution_count": null,
   "metadata": {},
   "outputs": [],
   "source": []
  }
 ],
 "metadata": {
  "kernelspec": {
   "display_name": "Python 3",
   "language": "python",
   "name": "python3"
  },
  "language_info": {
   "codemirror_mode": {
    "name": "ipython",
    "version": 3
   },
   "file_extension": ".py",
   "mimetype": "text/x-python",
   "name": "python",
   "nbconvert_exporter": "python",
   "pygments_lexer": "ipython3",
   "version": "3.7.4"
  }
 },
 "nbformat": 4,
 "nbformat_minor": 2
}
