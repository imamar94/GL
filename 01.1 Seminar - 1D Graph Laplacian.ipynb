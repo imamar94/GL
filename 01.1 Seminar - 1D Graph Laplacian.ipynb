{
 "cells": [
  {
   "cell_type": "code",
   "execution_count": 15,
   "metadata": {},
   "outputs": [],
   "source": [
    "%matplotlib inline\n",
    "import numpy as np\n",
    "import pandas as pd\n",
    "import matplotlib.pyplot as plt\n",
    "import seaborn as sns\n",
    "\n",
    "sns.set()"
   ]
  },
  {
   "cell_type": "code",
   "execution_count": 2,
   "metadata": {},
   "outputs": [],
   "source": [
    "def show_matrix(M, r=2):\n",
    "    M = [[str(round(j,r)) for j in i] for i in M]\n",
    "    for i in M:\n",
    "        print(\"\\t\".join(list(i)))\n",
    "        \n",
    "def check_symmetric(a, rtol=1e-05, atol=1e-08):\n",
    "    return np.allclose(a, a.T, rtol=rtol, atol=atol)"
   ]
  },
  {
   "cell_type": "code",
   "execution_count": 3,
   "metadata": {},
   "outputs": [],
   "source": [
    "X = np.array([1,2,3,6,7,8,9]) #X1 ~ X7 \n",
    "labeled_i = [0,4,6] ## labeled x index\n",
    "yl = np.array([0,1,1]) #Y1 & Y5 given\n",
    "yl_temp = dict(zip(labeled_i, yl))\n",
    "\n",
    "xl = np.array([x for i,x in enumerate(X) if i in labeled_i])\n",
    "xu = np.array([x for i,x in enumerate(X) if not(i in labeled_i)])\n",
    "E = [(0,1),(1,2),(2,3),(3,4),(4,5),(5,6)]\n",
    "\n",
    "sigma = 1"
   ]
  },
  {
   "cell_type": "code",
   "execution_count": 4,
   "metadata": {},
   "outputs": [],
   "source": [
    "## Create Matrix W\n",
    "## w_ij = exp(-abs(x[i]-x[j])) if (i,j) element of E\n",
    "W = []\n",
    "weight_func = lambda xi, xj, sigm: np.float16(np.exp(-(np.abs(xi - xj))/sigm))\n",
    "for i,x in enumerate(X):\n",
    "    w = [weight_func(X[i], X[j], sigma) if ((i,j) in E or (j,i) in E) else 0 for j in range(len(X))]\n",
    "    W.append(w)\n",
    "W = np.array(W)\n",
    "\n",
    "A_ = []\n",
    "for i,x in enumerate(X):\n",
    "    a = [W[i][j] if i!=j else -np.sum(W[i]) for j in range(len(X))]\n",
    "    A_.append(a)\n",
    "A_ = np.array(A_)\n",
    "\n",
    "## Creater Matrix A\n",
    "A = []\n",
    "for i,x in enumerate(X):\n",
    "    if i in labeled_i:\n",
    "        a = [1 if j==i else 0 for j in range(len(X))]\n",
    "    else:\n",
    "        a = [x for x in A_[i]]\n",
    "    A.append(a)\n",
    "A = np.array(A)\n",
    "\n",
    "## Create b\n",
    "b = np.array([0 if i not in labeled_i else yl_temp[i] for i,x in enumerate(X)]).T"
   ]
  },
  {
   "cell_type": "code",
   "execution_count": 6,
   "metadata": {},
   "outputs": [
    {
     "name": "stdout",
     "output_type": "stream",
     "text": [
      "1.0\t0.0\t0.0\t0.0\t0.0\t0.0\t0.0\n",
      "0.37\t-0.74\t0.37\t0.0\t0.0\t0.0\t0.0\n",
      "0.0\t0.37\t-0.42\t0.05\t0.0\t0.0\t0.0\n",
      "0.0\t0.0\t0.05\t-0.42\t0.37\t0.0\t0.0\n",
      "0.0\t0.0\t0.0\t0.0\t1.0\t0.0\t0.0\n",
      "0.0\t0.0\t0.0\t0.0\t0.37\t-0.74\t0.37\n",
      "0.0\t0.0\t0.0\t0.0\t0.0\t0.0\t1.0\n"
     ]
    }
   ],
   "source": [
    "show_matrix(A)"
   ]
  },
  {
   "cell_type": "markdown",
   "metadata": {},
   "source": [
    "## 1) Direct Solution (inverse matrix using numpy)\n",
    "$u=A^{-1}b$"
   ]
  },
  {
   "cell_type": "code",
   "execution_count": 252,
   "metadata": {},
   "outputs": [
    {
     "name": "stdout",
     "output_type": "stream",
     "text": [
      "X :  [1 2 3 6 7 8 9]\n",
      "Y :  [0 0 0 1 1 1 1]\n",
      "U :  [0.         0.09622987 0.19245973 0.90377013 1.         1.\n",
      " 1.        ]\n"
     ]
    }
   ],
   "source": [
    "U = np.dot(np.linalg.inv(A),b)\n",
    "Y = np.array([1 if u>0.5 else 0 for u in list(U)])\n",
    "print(\"X : \", X)\n",
    "print(\"Y : \", Y)\n",
    "print(\"U : \", U)"
   ]
  },
  {
   "cell_type": "markdown",
   "metadata": {},
   "source": [
    "## 2) Gauss Siedel Method"
   ]
  },
  {
   "cell_type": "code",
   "execution_count": 10,
   "metadata": {},
   "outputs": [
    {
     "name": "stdout",
     "output_type": "stream",
     "text": [
      "iteration  25\n",
      "X :  [1 2 3 6 7 8 9]\n",
      "Y :  [0 0 0 1 1 1 1]\n",
      "U :  [0.    0.096 0.192 0.904 1.    1.    1.   ]\n"
     ]
    }
   ],
   "source": [
    "def gs_method(A,b,x=None, max_i=1000):\n",
    "    n = len(b)\n",
    "    if not x:\n",
    "        x = np.ones(n)\n",
    "    r0 = np.dot(x,x)\n",
    "    for it in range(max_i):\n",
    "        for i in range(n):\n",
    "            sig = 0\n",
    "            for j in range(n):\n",
    "                if j != i:\n",
    "                    sig += A[i][j]*x[j]\n",
    "            x[i] = (1/A[i][i])*(b[i] - sig)\n",
    "        r1 = np.dot(x,x)\n",
    "        err = abs(r0 - r1)\n",
    "        r0 = r1\n",
    "        if err < 1e-9:\n",
    "            print(\"iteration \", it)\n",
    "            return x\n",
    "        \n",
    "U = gs_method(A, b)\n",
    "Y = np.array([1 if u>0.5 else 0 for u in list(U)])\n",
    "print(\"X : \", X)\n",
    "print(\"Y : \", Y)\n",
    "print(\"U : \", np.round(U,3))"
   ]
  },
  {
   "cell_type": "markdown",
   "metadata": {},
   "source": [
    "## 3) CG Method"
   ]
  },
  {
   "cell_type": "code",
   "execution_count": 245,
   "metadata": {},
   "outputs": [
    {
     "name": "stdout",
     "output_type": "stream",
     "text": [
      "g : \n",
      "[0.    0.    0.    0.    0.001 0.    0.001]\n",
      "Matrix B :\n",
      "1\t0\t0\t0\t0\t0\t0\n",
      "0\t0\t0\t0\t0\t0\t0\n",
      "0\t0\t0\t0\t0\t0\t0\n",
      "0\t0\t0\t0\t0\t0\t0\n",
      "0\t0\t0\t0\t1\t0\t0\n",
      "0\t0\t0\t0\t0\t0\t0\n",
      "0\t0\t0\t0\t0\t0\t1\n"
     ]
    }
   ],
   "source": [
    "## Choose very large K\n",
    "K = 1E3\n",
    "g = (1/K) * b\n",
    "\n",
    "## Create Matrix B\n",
    "B = []\n",
    "for i,x in enumerate(X):\n",
    "    if i in labeled_i:\n",
    "        a = [1 if j==i else 0 for j in range(len(X))]\n",
    "    else:\n",
    "        a = [0 for x in range(len(X))]\n",
    "    B.append(a)\n",
    "B = np.array(B)\n",
    "print(\"g : \")\n",
    "print(g)\n",
    "print(\"Matrix B :\")\n",
    "show_matrix(B,4)"
   ]
  },
  {
   "cell_type": "code",
   "execution_count": 246,
   "metadata": {},
   "outputs": [
    {
     "name": "stdout",
     "output_type": "stream",
     "text": [
      "Itr: 0\n",
      "X :  [1 2 3 6 7 8 9]\n",
      "Y :  [0 1 1 1 0 1 0]\n",
      "U :  [0.    1.    1.    1.    0.001 1.    0.001]\n"
     ]
    }
   ],
   "source": [
    "def conjugate_grad(A, b, x=None):\n",
    "    n = len(b)\n",
    "    if not x:\n",
    "        x = np.ones(n)\n",
    "    r = b - np.dot(A, x)\n",
    "    p = r\n",
    "    rsold = np.dot(r, r)\n",
    "    for i in range(n):\n",
    "        Ap = np.dot(A, p)\n",
    "        alpha = rsold / np.dot(p.T, Ap)\n",
    "        x += alpha * p\n",
    "        r -= alpha * Ap\n",
    "        rsnew = np.dot(r, r)\n",
    "        if np.sqrt(rsnew) < 1e-10:\n",
    "            print('Itr:', i)\n",
    "            break\n",
    "        p = (rsnew / rsold) * p + r\n",
    "    return x\n",
    "\n",
    "U = conjugate_grad(B, g)\n",
    "Y = np.array([1 if u>0.5 else 0 for u in list(U)])\n",
    "print(\"X : \", X)\n",
    "print(\"Y : \", Y)\n",
    "print(\"U : \", U)"
   ]
  },
  {
   "cell_type": "code",
   "execution_count": null,
   "metadata": {},
   "outputs": [],
   "source": []
  }
 ],
 "metadata": {
  "kernelspec": {
   "display_name": "Python 3",
   "language": "python",
   "name": "python3"
  },
  "language_info": {
   "codemirror_mode": {
    "name": "ipython",
    "version": 3
   },
   "file_extension": ".py",
   "mimetype": "text/x-python",
   "name": "python",
   "nbconvert_exporter": "python",
   "pygments_lexer": "ipython3",
   "version": "3.7.4"
  }
 },
 "nbformat": 4,
 "nbformat_minor": 2
}
